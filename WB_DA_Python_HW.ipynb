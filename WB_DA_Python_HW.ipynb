{
 "cells": [
  {
   "cell_type": "markdown",
   "metadata": {},
   "source": [
    "\n",
    "<h1>Задание 1</h1>\n",
    "\n",
    "У вас есть небольшой искусственный датасет: https://www.kaggle.com/datasets/iamsouravbanerjee/customer-shopping-trends-dataset/data   "
   ]
  },
  {
   "cell_type": "markdown",
   "metadata": {},
   "source": [
    "<h2>Задание 1.1</h2>"
   ]
  },
  {
   "cell_type": "markdown",
   "metadata": {},
   "source": [
    "На основании этих данных необходимо составить максимальное(но не менее пяти) количество гипотез о корреляциях между отдельными столбцами и проверить их. \n",
    "\n",
    "При этом при составлении гипотез можно рассматривать не полный df, а именно выборки (например: \"женщины старше 40 лет покупают в основном осенью\")"
   ]
  },
  {
   "cell_type": "markdown",
   "metadata": {},
   "source": [
    "Загрузим данные и взглянем на них:"
   ]
  },
  {
   "cell_type": "code",
   "execution_count": 96,
   "metadata": {},
   "outputs": [],
   "source": [
    "import pandas as pd\n",
    "import numpy as np\n",
    "import seaborn as sns\n",
    "import matplotlib.pyplot as plt\n",
    "\n",
    "import warnings\n",
    "warnings.filterwarnings('ignore')"
   ]
  },
  {
   "cell_type": "code",
   "execution_count": 2,
   "metadata": {},
   "outputs": [],
   "source": [
    "df = pd.read_csv('shopping_trends.csv')"
   ]
  },
  {
   "cell_type": "code",
   "execution_count": 3,
   "metadata": {},
   "outputs": [
    {
     "data": {
      "text/html": [
       "<div>\n",
       "<style scoped>\n",
       "    .dataframe tbody tr th:only-of-type {\n",
       "        vertical-align: middle;\n",
       "    }\n",
       "\n",
       "    .dataframe tbody tr th {\n",
       "        vertical-align: top;\n",
       "    }\n",
       "\n",
       "    .dataframe thead th {\n",
       "        text-align: right;\n",
       "    }\n",
       "</style>\n",
       "<table border=\"1\" class=\"dataframe\">\n",
       "  <thead>\n",
       "    <tr style=\"text-align: right;\">\n",
       "      <th></th>\n",
       "      <th>Customer ID</th>\n",
       "      <th>Age</th>\n",
       "      <th>Gender</th>\n",
       "      <th>Item Purchased</th>\n",
       "      <th>Category</th>\n",
       "      <th>Purchase Amount (USD)</th>\n",
       "      <th>Location</th>\n",
       "      <th>Size</th>\n",
       "      <th>Color</th>\n",
       "      <th>Season</th>\n",
       "      <th>Review Rating</th>\n",
       "      <th>Subscription Status</th>\n",
       "      <th>Payment Method</th>\n",
       "      <th>Shipping Type</th>\n",
       "      <th>Discount Applied</th>\n",
       "      <th>Promo Code Used</th>\n",
       "      <th>Previous Purchases</th>\n",
       "      <th>Preferred Payment Method</th>\n",
       "      <th>Frequency of Purchases</th>\n",
       "    </tr>\n",
       "  </thead>\n",
       "  <tbody>\n",
       "    <tr>\n",
       "      <th>0</th>\n",
       "      <td>1</td>\n",
       "      <td>55</td>\n",
       "      <td>Male</td>\n",
       "      <td>Blouse</td>\n",
       "      <td>Clothing</td>\n",
       "      <td>53</td>\n",
       "      <td>Kentucky</td>\n",
       "      <td>L</td>\n",
       "      <td>Gray</td>\n",
       "      <td>Winter</td>\n",
       "      <td>3.1</td>\n",
       "      <td>Yes</td>\n",
       "      <td>Credit Card</td>\n",
       "      <td>Express</td>\n",
       "      <td>Yes</td>\n",
       "      <td>Yes</td>\n",
       "      <td>14</td>\n",
       "      <td>Venmo</td>\n",
       "      <td>Fortnightly</td>\n",
       "    </tr>\n",
       "    <tr>\n",
       "      <th>1</th>\n",
       "      <td>2</td>\n",
       "      <td>19</td>\n",
       "      <td>Male</td>\n",
       "      <td>Sweater</td>\n",
       "      <td>Clothing</td>\n",
       "      <td>64</td>\n",
       "      <td>Maine</td>\n",
       "      <td>L</td>\n",
       "      <td>Maroon</td>\n",
       "      <td>Winter</td>\n",
       "      <td>3.1</td>\n",
       "      <td>Yes</td>\n",
       "      <td>Bank Transfer</td>\n",
       "      <td>Express</td>\n",
       "      <td>Yes</td>\n",
       "      <td>Yes</td>\n",
       "      <td>2</td>\n",
       "      <td>Cash</td>\n",
       "      <td>Fortnightly</td>\n",
       "    </tr>\n",
       "    <tr>\n",
       "      <th>2</th>\n",
       "      <td>3</td>\n",
       "      <td>50</td>\n",
       "      <td>Male</td>\n",
       "      <td>Jeans</td>\n",
       "      <td>Clothing</td>\n",
       "      <td>73</td>\n",
       "      <td>Massachusetts</td>\n",
       "      <td>S</td>\n",
       "      <td>Maroon</td>\n",
       "      <td>Spring</td>\n",
       "      <td>3.1</td>\n",
       "      <td>Yes</td>\n",
       "      <td>Cash</td>\n",
       "      <td>Free Shipping</td>\n",
       "      <td>Yes</td>\n",
       "      <td>Yes</td>\n",
       "      <td>23</td>\n",
       "      <td>Credit Card</td>\n",
       "      <td>Weekly</td>\n",
       "    </tr>\n",
       "    <tr>\n",
       "      <th>3</th>\n",
       "      <td>4</td>\n",
       "      <td>21</td>\n",
       "      <td>Male</td>\n",
       "      <td>Sandals</td>\n",
       "      <td>Footwear</td>\n",
       "      <td>90</td>\n",
       "      <td>Rhode Island</td>\n",
       "      <td>M</td>\n",
       "      <td>Maroon</td>\n",
       "      <td>Spring</td>\n",
       "      <td>3.5</td>\n",
       "      <td>Yes</td>\n",
       "      <td>PayPal</td>\n",
       "      <td>Next Day Air</td>\n",
       "      <td>Yes</td>\n",
       "      <td>Yes</td>\n",
       "      <td>49</td>\n",
       "      <td>PayPal</td>\n",
       "      <td>Weekly</td>\n",
       "    </tr>\n",
       "    <tr>\n",
       "      <th>4</th>\n",
       "      <td>5</td>\n",
       "      <td>45</td>\n",
       "      <td>Male</td>\n",
       "      <td>Blouse</td>\n",
       "      <td>Clothing</td>\n",
       "      <td>49</td>\n",
       "      <td>Oregon</td>\n",
       "      <td>M</td>\n",
       "      <td>Turquoise</td>\n",
       "      <td>Spring</td>\n",
       "      <td>2.7</td>\n",
       "      <td>Yes</td>\n",
       "      <td>Cash</td>\n",
       "      <td>Free Shipping</td>\n",
       "      <td>Yes</td>\n",
       "      <td>Yes</td>\n",
       "      <td>31</td>\n",
       "      <td>PayPal</td>\n",
       "      <td>Annually</td>\n",
       "    </tr>\n",
       "    <tr>\n",
       "      <th>...</th>\n",
       "      <td>...</td>\n",
       "      <td>...</td>\n",
       "      <td>...</td>\n",
       "      <td>...</td>\n",
       "      <td>...</td>\n",
       "      <td>...</td>\n",
       "      <td>...</td>\n",
       "      <td>...</td>\n",
       "      <td>...</td>\n",
       "      <td>...</td>\n",
       "      <td>...</td>\n",
       "      <td>...</td>\n",
       "      <td>...</td>\n",
       "      <td>...</td>\n",
       "      <td>...</td>\n",
       "      <td>...</td>\n",
       "      <td>...</td>\n",
       "      <td>...</td>\n",
       "      <td>...</td>\n",
       "    </tr>\n",
       "    <tr>\n",
       "      <th>3895</th>\n",
       "      <td>3896</td>\n",
       "      <td>40</td>\n",
       "      <td>Female</td>\n",
       "      <td>Hoodie</td>\n",
       "      <td>Clothing</td>\n",
       "      <td>28</td>\n",
       "      <td>Virginia</td>\n",
       "      <td>L</td>\n",
       "      <td>Turquoise</td>\n",
       "      <td>Summer</td>\n",
       "      <td>4.2</td>\n",
       "      <td>No</td>\n",
       "      <td>Cash</td>\n",
       "      <td>2-Day Shipping</td>\n",
       "      <td>No</td>\n",
       "      <td>No</td>\n",
       "      <td>32</td>\n",
       "      <td>Venmo</td>\n",
       "      <td>Weekly</td>\n",
       "    </tr>\n",
       "    <tr>\n",
       "      <th>3896</th>\n",
       "      <td>3897</td>\n",
       "      <td>52</td>\n",
       "      <td>Female</td>\n",
       "      <td>Backpack</td>\n",
       "      <td>Accessories</td>\n",
       "      <td>49</td>\n",
       "      <td>Iowa</td>\n",
       "      <td>L</td>\n",
       "      <td>White</td>\n",
       "      <td>Spring</td>\n",
       "      <td>4.5</td>\n",
       "      <td>No</td>\n",
       "      <td>PayPal</td>\n",
       "      <td>Store Pickup</td>\n",
       "      <td>No</td>\n",
       "      <td>No</td>\n",
       "      <td>41</td>\n",
       "      <td>Bank Transfer</td>\n",
       "      <td>Bi-Weekly</td>\n",
       "    </tr>\n",
       "    <tr>\n",
       "      <th>3897</th>\n",
       "      <td>3898</td>\n",
       "      <td>46</td>\n",
       "      <td>Female</td>\n",
       "      <td>Belt</td>\n",
       "      <td>Accessories</td>\n",
       "      <td>33</td>\n",
       "      <td>New Jersey</td>\n",
       "      <td>L</td>\n",
       "      <td>Green</td>\n",
       "      <td>Spring</td>\n",
       "      <td>2.9</td>\n",
       "      <td>No</td>\n",
       "      <td>Credit Card</td>\n",
       "      <td>Standard</td>\n",
       "      <td>No</td>\n",
       "      <td>No</td>\n",
       "      <td>24</td>\n",
       "      <td>Venmo</td>\n",
       "      <td>Quarterly</td>\n",
       "    </tr>\n",
       "    <tr>\n",
       "      <th>3898</th>\n",
       "      <td>3899</td>\n",
       "      <td>44</td>\n",
       "      <td>Female</td>\n",
       "      <td>Shoes</td>\n",
       "      <td>Footwear</td>\n",
       "      <td>77</td>\n",
       "      <td>Minnesota</td>\n",
       "      <td>S</td>\n",
       "      <td>Brown</td>\n",
       "      <td>Summer</td>\n",
       "      <td>3.8</td>\n",
       "      <td>No</td>\n",
       "      <td>PayPal</td>\n",
       "      <td>Express</td>\n",
       "      <td>No</td>\n",
       "      <td>No</td>\n",
       "      <td>24</td>\n",
       "      <td>Venmo</td>\n",
       "      <td>Weekly</td>\n",
       "    </tr>\n",
       "    <tr>\n",
       "      <th>3899</th>\n",
       "      <td>3900</td>\n",
       "      <td>52</td>\n",
       "      <td>Female</td>\n",
       "      <td>Handbag</td>\n",
       "      <td>Accessories</td>\n",
       "      <td>81</td>\n",
       "      <td>California</td>\n",
       "      <td>M</td>\n",
       "      <td>Beige</td>\n",
       "      <td>Spring</td>\n",
       "      <td>3.1</td>\n",
       "      <td>No</td>\n",
       "      <td>Bank Transfer</td>\n",
       "      <td>Store Pickup</td>\n",
       "      <td>No</td>\n",
       "      <td>No</td>\n",
       "      <td>33</td>\n",
       "      <td>Venmo</td>\n",
       "      <td>Quarterly</td>\n",
       "    </tr>\n",
       "  </tbody>\n",
       "</table>\n",
       "<p>3900 rows × 19 columns</p>\n",
       "</div>"
      ],
      "text/plain": [
       "      Customer ID  Age  Gender Item Purchased     Category  \\\n",
       "0               1   55    Male         Blouse     Clothing   \n",
       "1               2   19    Male        Sweater     Clothing   \n",
       "2               3   50    Male          Jeans     Clothing   \n",
       "3               4   21    Male        Sandals     Footwear   \n",
       "4               5   45    Male         Blouse     Clothing   \n",
       "...           ...  ...     ...            ...          ...   \n",
       "3895         3896   40  Female         Hoodie     Clothing   \n",
       "3896         3897   52  Female       Backpack  Accessories   \n",
       "3897         3898   46  Female           Belt  Accessories   \n",
       "3898         3899   44  Female          Shoes     Footwear   \n",
       "3899         3900   52  Female        Handbag  Accessories   \n",
       "\n",
       "      Purchase Amount (USD)       Location Size      Color  Season  \\\n",
       "0                        53       Kentucky    L       Gray  Winter   \n",
       "1                        64          Maine    L     Maroon  Winter   \n",
       "2                        73  Massachusetts    S     Maroon  Spring   \n",
       "3                        90   Rhode Island    M     Maroon  Spring   \n",
       "4                        49         Oregon    M  Turquoise  Spring   \n",
       "...                     ...            ...  ...        ...     ...   \n",
       "3895                     28       Virginia    L  Turquoise  Summer   \n",
       "3896                     49           Iowa    L      White  Spring   \n",
       "3897                     33     New Jersey    L      Green  Spring   \n",
       "3898                     77      Minnesota    S      Brown  Summer   \n",
       "3899                     81     California    M      Beige  Spring   \n",
       "\n",
       "      Review Rating Subscription Status Payment Method   Shipping Type  \\\n",
       "0               3.1                 Yes    Credit Card         Express   \n",
       "1               3.1                 Yes  Bank Transfer         Express   \n",
       "2               3.1                 Yes           Cash   Free Shipping   \n",
       "3               3.5                 Yes         PayPal    Next Day Air   \n",
       "4               2.7                 Yes           Cash   Free Shipping   \n",
       "...             ...                 ...            ...             ...   \n",
       "3895            4.2                  No           Cash  2-Day Shipping   \n",
       "3896            4.5                  No         PayPal    Store Pickup   \n",
       "3897            2.9                  No    Credit Card        Standard   \n",
       "3898            3.8                  No         PayPal         Express   \n",
       "3899            3.1                  No  Bank Transfer    Store Pickup   \n",
       "\n",
       "     Discount Applied Promo Code Used  Previous Purchases  \\\n",
       "0                 Yes             Yes                  14   \n",
       "1                 Yes             Yes                   2   \n",
       "2                 Yes             Yes                  23   \n",
       "3                 Yes             Yes                  49   \n",
       "4                 Yes             Yes                  31   \n",
       "...               ...             ...                 ...   \n",
       "3895               No              No                  32   \n",
       "3896               No              No                  41   \n",
       "3897               No              No                  24   \n",
       "3898               No              No                  24   \n",
       "3899               No              No                  33   \n",
       "\n",
       "     Preferred Payment Method Frequency of Purchases  \n",
       "0                       Venmo            Fortnightly  \n",
       "1                        Cash            Fortnightly  \n",
       "2                 Credit Card                 Weekly  \n",
       "3                      PayPal                 Weekly  \n",
       "4                      PayPal               Annually  \n",
       "...                       ...                    ...  \n",
       "3895                    Venmo                 Weekly  \n",
       "3896            Bank Transfer              Bi-Weekly  \n",
       "3897                    Venmo              Quarterly  \n",
       "3898                    Venmo                 Weekly  \n",
       "3899                    Venmo              Quarterly  \n",
       "\n",
       "[3900 rows x 19 columns]"
      ]
     },
     "execution_count": 3,
     "metadata": {},
     "output_type": "execute_result"
    }
   ],
   "source": [
    "df"
   ]
  },
  {
   "cell_type": "code",
   "execution_count": 4,
   "metadata": {},
   "outputs": [
    {
     "name": "stdout",
     "output_type": "stream",
     "text": [
      "<class 'pandas.core.frame.DataFrame'>\n",
      "RangeIndex: 3900 entries, 0 to 3899\n",
      "Data columns (total 19 columns):\n",
      " #   Column                    Non-Null Count  Dtype  \n",
      "---  ------                    --------------  -----  \n",
      " 0   Customer ID               3900 non-null   int64  \n",
      " 1   Age                       3900 non-null   int64  \n",
      " 2   Gender                    3900 non-null   object \n",
      " 3   Item Purchased            3900 non-null   object \n",
      " 4   Category                  3900 non-null   object \n",
      " 5   Purchase Amount (USD)     3900 non-null   int64  \n",
      " 6   Location                  3900 non-null   object \n",
      " 7   Size                      3900 non-null   object \n",
      " 8   Color                     3900 non-null   object \n",
      " 9   Season                    3900 non-null   object \n",
      " 10  Review Rating             3900 non-null   float64\n",
      " 11  Subscription Status       3900 non-null   object \n",
      " 12  Payment Method            3900 non-null   object \n",
      " 13  Shipping Type             3900 non-null   object \n",
      " 14  Discount Applied          3900 non-null   object \n",
      " 15  Promo Code Used           3900 non-null   object \n",
      " 16  Previous Purchases        3900 non-null   int64  \n",
      " 17  Preferred Payment Method  3900 non-null   object \n",
      " 18  Frequency of Purchases    3900 non-null   object \n",
      "dtypes: float64(1), int64(4), object(14)\n",
      "memory usage: 579.0+ KB\n"
     ]
    }
   ],
   "source": [
    "# Выведем информацию о типах данных  и пропущенных значениях\n",
    "df.info()"
   ]
  },
  {
   "cell_type": "code",
   "execution_count": 21,
   "metadata": {},
   "outputs": [
    {
     "data": {
      "text/plain": [
       "['Customer ID',\n",
       " 'Age',\n",
       " 'Purchase Amount (USD)',\n",
       " 'Review Rating',\n",
       " 'Previous Purchases']"
      ]
     },
     "execution_count": 21,
     "metadata": {},
     "output_type": "execute_result"
    }
   ],
   "source": [
    "num_cols = list(df.select_dtypes(include=['number']).columns)\n",
    "num_cols"
   ]
  },
  {
   "cell_type": "code",
   "execution_count": 22,
   "metadata": {},
   "outputs": [
    {
     "data": {
      "text/plain": [
       "['Gender',\n",
       " 'Item Purchased',\n",
       " 'Category',\n",
       " 'Location',\n",
       " 'Size',\n",
       " 'Color',\n",
       " 'Season',\n",
       " 'Subscription Status',\n",
       " 'Payment Method',\n",
       " 'Shipping Type',\n",
       " 'Discount Applied',\n",
       " 'Promo Code Used',\n",
       " 'Preferred Payment Method',\n",
       " 'Frequency of Purchases']"
      ]
     },
     "execution_count": 22,
     "metadata": {},
     "output_type": "execute_result"
    }
   ],
   "source": [
    "num_cols.remove('Customer ID')\n",
    "\n",
    "cat_cols = list(df.select_dtypes(include=['object']).columns)\n",
    "cat_cols"
   ]
  },
  {
   "cell_type": "code",
   "execution_count": 23,
   "metadata": {},
   "outputs": [
    {
     "data": {
      "text/html": [
       "<div>\n",
       "<style scoped>\n",
       "    .dataframe tbody tr th:only-of-type {\n",
       "        vertical-align: middle;\n",
       "    }\n",
       "\n",
       "    .dataframe tbody tr th {\n",
       "        vertical-align: top;\n",
       "    }\n",
       "\n",
       "    .dataframe thead th {\n",
       "        text-align: right;\n",
       "    }\n",
       "</style>\n",
       "<table border=\"1\" class=\"dataframe\">\n",
       "  <thead>\n",
       "    <tr style=\"text-align: right;\">\n",
       "      <th></th>\n",
       "      <th>Age</th>\n",
       "      <th>Purchase Amount (USD)</th>\n",
       "      <th>Review Rating</th>\n",
       "      <th>Previous Purchases</th>\n",
       "    </tr>\n",
       "  </thead>\n",
       "  <tbody>\n",
       "    <tr>\n",
       "      <th>count</th>\n",
       "      <td>3900.000000</td>\n",
       "      <td>3900.000000</td>\n",
       "      <td>3900.000000</td>\n",
       "      <td>3900.000000</td>\n",
       "    </tr>\n",
       "    <tr>\n",
       "      <th>mean</th>\n",
       "      <td>44.068462</td>\n",
       "      <td>59.764359</td>\n",
       "      <td>3.749949</td>\n",
       "      <td>25.351538</td>\n",
       "    </tr>\n",
       "    <tr>\n",
       "      <th>std</th>\n",
       "      <td>15.207589</td>\n",
       "      <td>23.685392</td>\n",
       "      <td>0.716223</td>\n",
       "      <td>14.447125</td>\n",
       "    </tr>\n",
       "    <tr>\n",
       "      <th>min</th>\n",
       "      <td>18.000000</td>\n",
       "      <td>20.000000</td>\n",
       "      <td>2.500000</td>\n",
       "      <td>1.000000</td>\n",
       "    </tr>\n",
       "    <tr>\n",
       "      <th>25%</th>\n",
       "      <td>31.000000</td>\n",
       "      <td>39.000000</td>\n",
       "      <td>3.100000</td>\n",
       "      <td>13.000000</td>\n",
       "    </tr>\n",
       "    <tr>\n",
       "      <th>50%</th>\n",
       "      <td>44.000000</td>\n",
       "      <td>60.000000</td>\n",
       "      <td>3.700000</td>\n",
       "      <td>25.000000</td>\n",
       "    </tr>\n",
       "    <tr>\n",
       "      <th>75%</th>\n",
       "      <td>57.000000</td>\n",
       "      <td>81.000000</td>\n",
       "      <td>4.400000</td>\n",
       "      <td>38.000000</td>\n",
       "    </tr>\n",
       "    <tr>\n",
       "      <th>max</th>\n",
       "      <td>70.000000</td>\n",
       "      <td>100.000000</td>\n",
       "      <td>5.000000</td>\n",
       "      <td>50.000000</td>\n",
       "    </tr>\n",
       "  </tbody>\n",
       "</table>\n",
       "</div>"
      ],
      "text/plain": [
       "               Age  Purchase Amount (USD)  Review Rating  Previous Purchases\n",
       "count  3900.000000            3900.000000    3900.000000         3900.000000\n",
       "mean     44.068462              59.764359       3.749949           25.351538\n",
       "std      15.207589              23.685392       0.716223           14.447125\n",
       "min      18.000000              20.000000       2.500000            1.000000\n",
       "25%      31.000000              39.000000       3.100000           13.000000\n",
       "50%      44.000000              60.000000       3.700000           25.000000\n",
       "75%      57.000000              81.000000       4.400000           38.000000\n",
       "max      70.000000             100.000000       5.000000           50.000000"
      ]
     },
     "execution_count": 23,
     "metadata": {},
     "output_type": "execute_result"
    }
   ],
   "source": [
    "# Посмотрим на статистику для числовых столбцов\n",
    "df[num_cols].describe()"
   ]
  },
  {
   "cell_type": "code",
   "execution_count": 24,
   "metadata": {},
   "outputs": [
    {
     "data": {
      "text/html": [
       "<div>\n",
       "<style scoped>\n",
       "    .dataframe tbody tr th:only-of-type {\n",
       "        vertical-align: middle;\n",
       "    }\n",
       "\n",
       "    .dataframe tbody tr th {\n",
       "        vertical-align: top;\n",
       "    }\n",
       "\n",
       "    .dataframe thead th {\n",
       "        text-align: right;\n",
       "    }\n",
       "</style>\n",
       "<table border=\"1\" class=\"dataframe\">\n",
       "  <thead>\n",
       "    <tr style=\"text-align: right;\">\n",
       "      <th></th>\n",
       "      <th>Gender</th>\n",
       "      <th>Item Purchased</th>\n",
       "      <th>Category</th>\n",
       "      <th>Location</th>\n",
       "      <th>Size</th>\n",
       "      <th>Color</th>\n",
       "      <th>Season</th>\n",
       "      <th>Subscription Status</th>\n",
       "      <th>Payment Method</th>\n",
       "      <th>Shipping Type</th>\n",
       "      <th>Discount Applied</th>\n",
       "      <th>Promo Code Used</th>\n",
       "      <th>Preferred Payment Method</th>\n",
       "      <th>Frequency of Purchases</th>\n",
       "    </tr>\n",
       "  </thead>\n",
       "  <tbody>\n",
       "    <tr>\n",
       "      <th>count</th>\n",
       "      <td>3900</td>\n",
       "      <td>3900</td>\n",
       "      <td>3900</td>\n",
       "      <td>3900</td>\n",
       "      <td>3900</td>\n",
       "      <td>3900</td>\n",
       "      <td>3900</td>\n",
       "      <td>3900</td>\n",
       "      <td>3900</td>\n",
       "      <td>3900</td>\n",
       "      <td>3900</td>\n",
       "      <td>3900</td>\n",
       "      <td>3900</td>\n",
       "      <td>3900</td>\n",
       "    </tr>\n",
       "    <tr>\n",
       "      <th>unique</th>\n",
       "      <td>2</td>\n",
       "      <td>25</td>\n",
       "      <td>4</td>\n",
       "      <td>50</td>\n",
       "      <td>4</td>\n",
       "      <td>25</td>\n",
       "      <td>4</td>\n",
       "      <td>2</td>\n",
       "      <td>6</td>\n",
       "      <td>6</td>\n",
       "      <td>2</td>\n",
       "      <td>2</td>\n",
       "      <td>6</td>\n",
       "      <td>7</td>\n",
       "    </tr>\n",
       "    <tr>\n",
       "      <th>top</th>\n",
       "      <td>Male</td>\n",
       "      <td>Blouse</td>\n",
       "      <td>Clothing</td>\n",
       "      <td>Montana</td>\n",
       "      <td>M</td>\n",
       "      <td>Olive</td>\n",
       "      <td>Spring</td>\n",
       "      <td>No</td>\n",
       "      <td>Credit Card</td>\n",
       "      <td>Free Shipping</td>\n",
       "      <td>No</td>\n",
       "      <td>No</td>\n",
       "      <td>PayPal</td>\n",
       "      <td>Every 3 Months</td>\n",
       "    </tr>\n",
       "    <tr>\n",
       "      <th>freq</th>\n",
       "      <td>2652</td>\n",
       "      <td>171</td>\n",
       "      <td>1737</td>\n",
       "      <td>96</td>\n",
       "      <td>1755</td>\n",
       "      <td>177</td>\n",
       "      <td>999</td>\n",
       "      <td>2847</td>\n",
       "      <td>696</td>\n",
       "      <td>675</td>\n",
       "      <td>2223</td>\n",
       "      <td>2223</td>\n",
       "      <td>677</td>\n",
       "      <td>584</td>\n",
       "    </tr>\n",
       "  </tbody>\n",
       "</table>\n",
       "</div>"
      ],
      "text/plain": [
       "       Gender Item Purchased  Category Location  Size  Color  Season  \\\n",
       "count    3900           3900      3900     3900  3900   3900    3900   \n",
       "unique      2             25         4       50     4     25       4   \n",
       "top      Male         Blouse  Clothing  Montana     M  Olive  Spring   \n",
       "freq     2652            171      1737       96  1755    177     999   \n",
       "\n",
       "       Subscription Status Payment Method  Shipping Type Discount Applied  \\\n",
       "count                 3900           3900           3900             3900   \n",
       "unique                   2              6              6                2   \n",
       "top                     No    Credit Card  Free Shipping               No   \n",
       "freq                  2847            696            675             2223   \n",
       "\n",
       "       Promo Code Used Preferred Payment Method Frequency of Purchases  \n",
       "count             3900                     3900                   3900  \n",
       "unique               2                        6                      7  \n",
       "top                 No                   PayPal         Every 3 Months  \n",
       "freq              2223                      677                    584  "
      ]
     },
     "execution_count": 24,
     "metadata": {},
     "output_type": "execute_result"
    }
   ],
   "source": [
    "# Теперь для категориальных\n",
    "df[cat_cols].describe()"
   ]
  },
  {
   "cell_type": "code",
   "execution_count": 27,
   "metadata": {},
   "outputs": [
    {
     "data": {
      "text/html": [
       "<div>\n",
       "<style scoped>\n",
       "    .dataframe tbody tr th:only-of-type {\n",
       "        vertical-align: middle;\n",
       "    }\n",
       "\n",
       "    .dataframe tbody tr th {\n",
       "        vertical-align: top;\n",
       "    }\n",
       "\n",
       "    .dataframe thead th {\n",
       "        text-align: right;\n",
       "    }\n",
       "</style>\n",
       "<table border=\"1\" class=\"dataframe\">\n",
       "  <thead>\n",
       "    <tr style=\"text-align: right;\">\n",
       "      <th></th>\n",
       "      <th>Category</th>\n",
       "      <th>proportion</th>\n",
       "    </tr>\n",
       "  </thead>\n",
       "  <tbody>\n",
       "    <tr>\n",
       "      <th>0</th>\n",
       "      <td>Clothing</td>\n",
       "      <td>0.445385</td>\n",
       "    </tr>\n",
       "    <tr>\n",
       "      <th>1</th>\n",
       "      <td>Accessories</td>\n",
       "      <td>0.317949</td>\n",
       "    </tr>\n",
       "    <tr>\n",
       "      <th>2</th>\n",
       "      <td>Footwear</td>\n",
       "      <td>0.153590</td>\n",
       "    </tr>\n",
       "    <tr>\n",
       "      <th>3</th>\n",
       "      <td>Outerwear</td>\n",
       "      <td>0.083077</td>\n",
       "    </tr>\n",
       "  </tbody>\n",
       "</table>\n",
       "</div>"
      ],
      "text/plain": [
       "      Category  proportion\n",
       "0     Clothing    0.445385\n",
       "1  Accessories    0.317949\n",
       "2     Footwear    0.153590\n",
       "3    Outerwear    0.083077"
      ]
     },
     "execution_count": 27,
     "metadata": {},
     "output_type": "execute_result"
    }
   ],
   "source": [
    "# Посмотрим, какие значения Category и Payment Method есть в датасете\n",
    "df['Category'].value_counts(normalize = True).reset_index()"
   ]
  },
  {
   "cell_type": "code",
   "execution_count": 28,
   "metadata": {},
   "outputs": [
    {
     "data": {
      "text/html": [
       "<div>\n",
       "<style scoped>\n",
       "    .dataframe tbody tr th:only-of-type {\n",
       "        vertical-align: middle;\n",
       "    }\n",
       "\n",
       "    .dataframe tbody tr th {\n",
       "        vertical-align: top;\n",
       "    }\n",
       "\n",
       "    .dataframe thead th {\n",
       "        text-align: right;\n",
       "    }\n",
       "</style>\n",
       "<table border=\"1\" class=\"dataframe\">\n",
       "  <thead>\n",
       "    <tr style=\"text-align: right;\">\n",
       "      <th></th>\n",
       "      <th>Payment Method</th>\n",
       "      <th>proportion</th>\n",
       "    </tr>\n",
       "  </thead>\n",
       "  <tbody>\n",
       "    <tr>\n",
       "      <th>0</th>\n",
       "      <td>Credit Card</td>\n",
       "      <td>0.178462</td>\n",
       "    </tr>\n",
       "    <tr>\n",
       "      <th>1</th>\n",
       "      <td>Venmo</td>\n",
       "      <td>0.167436</td>\n",
       "    </tr>\n",
       "    <tr>\n",
       "      <th>2</th>\n",
       "      <td>Cash</td>\n",
       "      <td>0.166154</td>\n",
       "    </tr>\n",
       "    <tr>\n",
       "      <th>3</th>\n",
       "      <td>PayPal</td>\n",
       "      <td>0.163590</td>\n",
       "    </tr>\n",
       "    <tr>\n",
       "      <th>4</th>\n",
       "      <td>Debit Card</td>\n",
       "      <td>0.162308</td>\n",
       "    </tr>\n",
       "    <tr>\n",
       "      <th>5</th>\n",
       "      <td>Bank Transfer</td>\n",
       "      <td>0.162051</td>\n",
       "    </tr>\n",
       "  </tbody>\n",
       "</table>\n",
       "</div>"
      ],
      "text/plain": [
       "  Payment Method  proportion\n",
       "0    Credit Card    0.178462\n",
       "1          Venmo    0.167436\n",
       "2           Cash    0.166154\n",
       "3         PayPal    0.163590\n",
       "4     Debit Card    0.162308\n",
       "5  Bank Transfer    0.162051"
      ]
     },
     "execution_count": 28,
     "metadata": {},
     "output_type": "execute_result"
    }
   ],
   "source": [
    "df['Payment Method'].value_counts(normalize = True).reset_index()"
   ]
  },
  {
   "cell_type": "markdown",
   "metadata": {},
   "source": [
    "**Первая гипотеза:**\n",
    "\n",
    "Женщины чаще мужчин покупают аксессуары "
   ]
  },
  {
   "cell_type": "code",
   "execution_count": 32,
   "metadata": {},
   "outputs": [
    {
     "data": {
      "text/plain": [
       "<Axes: xlabel='Gender', ylabel='count'>"
      ]
     },
     "execution_count": 32,
     "metadata": {},
     "output_type": "execute_result"
    },
    {
     "data": {
      "image/png": "[encoded data removed]",
      "text/plain": [
       "<Figure size 640x480 with 1 Axes>"
      ]
     },
     "metadata": {},
     "output_type": "display_data"
    }
   ],
   "source": [
    "# Построим график\n",
    "sns.countplot(data = df[df['Category'] == 'Accessories'], x = 'Gender', hue = 'Gender')"
   ]
  },
  {
   "cell_type": "markdown",
   "metadata": {},
   "source": [
    "На первый взгяд, можно подумать что мужчины чаще покупают аксесуары, но нельзя забывать что мужчин в нашем датесете просто больше. Стоит посмотреть на частоту покупки этой категории для обоих полов."
   ]
  },
  {
   "cell_type": "code",
   "execution_count": 39,
   "metadata": {},
   "outputs": [
    {
     "data": {
      "text/html": [
       "<div>\n",
       "<style scoped>\n",
       "    .dataframe tbody tr th:only-of-type {\n",
       "        vertical-align: middle;\n",
       "    }\n",
       "\n",
       "    .dataframe tbody tr th {\n",
       "        vertical-align: top;\n",
       "    }\n",
       "\n",
       "    .dataframe thead th {\n",
       "        text-align: right;\n",
       "    }\n",
       "</style>\n",
       "<table border=\"1\" class=\"dataframe\">\n",
       "  <thead>\n",
       "    <tr style=\"text-align: right;\">\n",
       "      <th></th>\n",
       "      <th>Gender</th>\n",
       "      <th>Category</th>\n",
       "      <th>proportion</th>\n",
       "    </tr>\n",
       "  </thead>\n",
       "  <tbody>\n",
       "    <tr>\n",
       "      <th>1</th>\n",
       "      <td>Female</td>\n",
       "      <td>Accessories</td>\n",
       "      <td>0.314103</td>\n",
       "    </tr>\n",
       "    <tr>\n",
       "      <th>5</th>\n",
       "      <td>Male</td>\n",
       "      <td>Accessories</td>\n",
       "      <td>0.319759</td>\n",
       "    </tr>\n",
       "  </tbody>\n",
       "</table>\n",
       "</div>"
      ],
      "text/plain": [
       "   Gender     Category  proportion\n",
       "1  Female  Accessories    0.314103\n",
       "5    Male  Accessories    0.319759"
      ]
     },
     "execution_count": 39,
     "metadata": {},
     "output_type": "execute_result"
    }
   ],
   "source": [
    "(df.groupby('Gender', as_index = False)['Category'].value_counts(normalize = True)).query('Category == \"Accessories\"')"
   ]
  },
  {
   "cell_type": "markdown",
   "metadata": {},
   "source": [
    "Здесь видно, что частота практически одинаковая\n",
    "\n",
    "**Вывод:** Гипотеза не верна\n",
    "\n",
    "---"
   ]
  },
  {
   "cell_type": "markdown",
   "metadata": {},
   "source": [
    "**Вторая гипотеза:**\n",
    "\n",
    "Более молодое поколение чаще расплачивается PayPal, чем старшее"
   ]
  },
  {
   "cell_type": "code",
   "execution_count": 60,
   "metadata": {},
   "outputs": [
    {
     "data": {
      "text/plain": [
       "<Axes: xlabel='Age', ylabel='Count'>"
      ]
     },
     "execution_count": 60,
     "metadata": {},
     "output_type": "execute_result"
    },
    {
     "data": {
      "image/png": "[encoded data removed]",
      "text/plain": [
       "<Figure size 640x480 with 1 Axes>"
      ]
     },
     "metadata": {},
     "output_type": "display_data"
    }
   ],
   "source": [
    "# Сначала построим гистограмму для возраста среди всех данных\n",
    "\n",
    "sns.histplot(data = df, x = 'Age', bins = 25)"
   ]
  },
  {
   "cell_type": "code",
   "execution_count": 61,
   "metadata": {},
   "outputs": [
    {
     "data": {
      "text/plain": [
       "<Axes: xlabel='Age', ylabel='Count'>"
      ]
     },
     "execution_count": 61,
     "metadata": {},
     "output_type": "execute_result"
    },
    {
     "data": {
      "image/png": "[encoded data removed]",
      "text/plain": [
       "<Figure size 640x480 with 1 Axes>"
      ]
     },
     "metadata": {},
     "output_type": "display_data"
    }
   ],
   "source": [
    "# Теперь посмотрим на гистограмму, при оплате с помощью PayPal\n",
    "\n",
    "sns.histplot(data = df[df['Payment Method'] == 'PayPal'], x = 'Age', bins =25)"
   ]
  },
  {
   "cell_type": "markdown",
   "metadata": {},
   "source": [
    "Выделим возрастные группы и посмотрим на частоту оплаты PayPal"
   ]
  },
  {
   "cell_type": "code",
   "execution_count": 86,
   "metadata": {},
   "outputs": [],
   "source": [
    "age_groups = pd.cut(df['Age'], bins=[0, 30, 50, 100], labels=['0-30', '30-50', '50-100'])\n",
    "df['age_group'] = age_groups"
   ]
  },
  {
   "cell_type": "code",
   "execution_count": 97,
   "metadata": {},
   "outputs": [],
   "source": [
    "grouped_age = df.groupby('age_group', as_index = False)['Payment Method'].value_counts(normalize = True)"
   ]
  },
  {
   "cell_type": "code",
   "execution_count": 99,
   "metadata": {},
   "outputs": [
    {
     "data": {
      "text/html": [
       "<div>\n",
       "<style scoped>\n",
       "    .dataframe tbody tr th:only-of-type {\n",
       "        vertical-align: middle;\n",
       "    }\n",
       "\n",
       "    .dataframe tbody tr th {\n",
       "        vertical-align: top;\n",
       "    }\n",
       "\n",
       "    .dataframe thead th {\n",
       "        text-align: right;\n",
       "    }\n",
       "</style>\n",
       "<table border=\"1\" class=\"dataframe\">\n",
       "  <thead>\n",
       "    <tr style=\"text-align: right;\">\n",
       "      <th></th>\n",
       "      <th>age_group</th>\n",
       "      <th>Payment Method</th>\n",
       "      <th>proportion</th>\n",
       "    </tr>\n",
       "  </thead>\n",
       "  <tbody>\n",
       "    <tr>\n",
       "      <th>0</th>\n",
       "      <td>0-30</td>\n",
       "      <td>PayPal</td>\n",
       "      <td>0.183351</td>\n",
       "    </tr>\n",
       "    <tr>\n",
       "      <th>11</th>\n",
       "      <td>30-50</td>\n",
       "      <td>PayPal</td>\n",
       "      <td>0.158644</td>\n",
       "    </tr>\n",
       "    <tr>\n",
       "      <th>16</th>\n",
       "      <td>50-100</td>\n",
       "      <td>PayPal</td>\n",
       "      <td>0.155827</td>\n",
       "    </tr>\n",
       "  </tbody>\n",
       "</table>\n",
       "</div>"
      ],
      "text/plain": [
       "   age_group Payment Method  proportion\n",
       "0       0-30         PayPal    0.183351\n",
       "11     30-50         PayPal    0.158644\n",
       "16    50-100         PayPal    0.155827"
      ]
     },
     "execution_count": 99,
     "metadata": {},
     "output_type": "execute_result"
    }
   ],
   "source": [
    "grouped_age[grouped_age['Payment Method'] == 'PayPal']"
   ]
  },
  {
   "cell_type": "code",
   "execution_count": 101,
   "metadata": {},
   "outputs": [
    {
     "data": {
      "text/plain": [
       "<Axes: xlabel='age_group', ylabel='proportion'>"
      ]
     },
     "execution_count": 101,
     "metadata": {},
     "output_type": "execute_result"
    },
    {
     "data": {
      "image/png": "[encoded data removed]",
      "text/plain": [
       "<Figure size 640x480 with 1 Axes>"
      ]
     },
     "metadata": {},
     "output_type": "display_data"
    }
   ],
   "source": [
    "sns.barplot(data = grouped_age[grouped_age['Payment Method'] == 'PayPal'], x ='age_group', y = 'proportion', hue = 'age_group')"
   ]
  },
  {
   "cell_type": "markdown",
   "metadata": {},
   "source": [
    "Если смотреть частоту оплаты PayPal для разных возрастных групп, то получается, что люди до 30 лет всего на 3% чаще оплачивают этим методом. Я бы сказал что данных слишком мало, чтобы говорить что гипотеза подтверждена\n",
    "\n",
    "**Вывод:** различие слишком мало для подтверждения гипотезы\n",
    "\n",
    "---"
   ]
  },
  {
   "cell_type": "markdown",
   "metadata": {},
   "source": [
    "**Третья гипотезы:** Женщины тратят больше денег"
   ]
  },
  {
   "cell_type": "code",
   "execution_count": 106,
   "metadata": {},
   "outputs": [
    {
     "data": {
      "text/plain": [
       "<Axes: ylabel='Purchase Amount (USD)'>"
      ]
     },
     "execution_count": 106,
     "metadata": {},
     "output_type": "execute_result"
    },
    {
     "data": {
      "image/png": "[encoded data removed]",
      "text/plain": [
       "<Figure size 640x480 with 1 Axes>"
      ]
     },
     "metadata": {},
     "output_type": "display_data"
    }
   ],
   "source": [
    "sns.boxplot(data = df, y = 'Purchase Amount (USD)', hue = 'Gender', widths=0.3)"
   ]
  },
  {
   "cell_type": "markdown",
   "metadata": {},
   "source": [
    "**Вывод:** на основе графика boxplot, можно сказать что траты не зависят от пола\n",
    "\n",
    "---"
   ]
  },
  {
   "cell_type": "markdown",
   "metadata": {},
   "source": [
    "**Четвертая гипотеза:** В некоторых штатах (северных) чаще покупают одежду осенью (перед зимой утепляются)"
   ]
  },
  {
   "cell_type": "code",
   "execution_count": 109,
   "metadata": {},
   "outputs": [],
   "source": [
    "pivot_table = df.pivot_table(\n",
    "    index = 'Location',\n",
    "    columns = 'Season',\n",
    "    values = 'Customer ID',\n",
    "    aggfunc = 'count'\n",
    ")"
   ]
  },
  {
   "cell_type": "code",
   "execution_count": 111,
   "metadata": {},
   "outputs": [],
   "source": [
    "percent_table = pivot_table.div(pivot_table.sum(axis = 1), axis = 0)"
   ]
  },
  {
   "cell_type": "code",
   "execution_count": 115,
   "metadata": {},
   "outputs": [
    {
     "data": {
      "text/html": [
       "<div>\n",
       "<style scoped>\n",
       "    .dataframe tbody tr th:only-of-type {\n",
       "        vertical-align: middle;\n",
       "    }\n",
       "\n",
       "    .dataframe tbody tr th {\n",
       "        vertical-align: top;\n",
       "    }\n",
       "\n",
       "    .dataframe thead th {\n",
       "        text-align: right;\n",
       "    }\n",
       "</style>\n",
       "<table border=\"1\" class=\"dataframe\">\n",
       "  <thead>\n",
       "    <tr style=\"text-align: right;\">\n",
       "      <th>Season</th>\n",
       "      <th>Fall</th>\n",
       "      <th>Spring</th>\n",
       "      <th>Summer</th>\n",
       "      <th>Winter</th>\n",
       "    </tr>\n",
       "    <tr>\n",
       "      <th>Location</th>\n",
       "      <th></th>\n",
       "      <th></th>\n",
       "      <th></th>\n",
       "      <th></th>\n",
       "    </tr>\n",
       "  </thead>\n",
       "  <tbody>\n",
       "    <tr>\n",
       "      <th>Alabama</th>\n",
       "      <td>0.269663</td>\n",
       "      <td>0.269663</td>\n",
       "      <td>0.269663</td>\n",
       "      <td>0.191011</td>\n",
       "    </tr>\n",
       "    <tr>\n",
       "      <th>Alaska</th>\n",
       "      <td>0.208333</td>\n",
       "      <td>0.375000</td>\n",
       "      <td>0.166667</td>\n",
       "      <td>0.250000</td>\n",
       "    </tr>\n",
       "    <tr>\n",
       "      <th>Arizona</th>\n",
       "      <td>0.276923</td>\n",
       "      <td>0.246154</td>\n",
       "      <td>0.276923</td>\n",
       "      <td>0.200000</td>\n",
       "    </tr>\n",
       "    <tr>\n",
       "      <th>Arkansas</th>\n",
       "      <td>0.240506</td>\n",
       "      <td>0.303797</td>\n",
       "      <td>0.253165</td>\n",
       "      <td>0.202532</td>\n",
       "    </tr>\n",
       "    <tr>\n",
       "      <th>California</th>\n",
       "      <td>0.284211</td>\n",
       "      <td>0.242105</td>\n",
       "      <td>0.242105</td>\n",
       "      <td>0.231579</td>\n",
       "    </tr>\n",
       "    <tr>\n",
       "      <th>Colorado</th>\n",
       "      <td>0.160000</td>\n",
       "      <td>0.293333</td>\n",
       "      <td>0.240000</td>\n",
       "      <td>0.306667</td>\n",
       "    </tr>\n",
       "    <tr>\n",
       "      <th>Connecticut</th>\n",
       "      <td>0.256410</td>\n",
       "      <td>0.269231</td>\n",
       "      <td>0.192308</td>\n",
       "      <td>0.282051</td>\n",
       "    </tr>\n",
       "    <tr>\n",
       "      <th>Delaware</th>\n",
       "      <td>0.279070</td>\n",
       "      <td>0.255814</td>\n",
       "      <td>0.232558</td>\n",
       "      <td>0.232558</td>\n",
       "    </tr>\n",
       "    <tr>\n",
       "      <th>Florida</th>\n",
       "      <td>0.294118</td>\n",
       "      <td>0.191176</td>\n",
       "      <td>0.250000</td>\n",
       "      <td>0.264706</td>\n",
       "    </tr>\n",
       "    <tr>\n",
       "      <th>Georgia</th>\n",
       "      <td>0.227848</td>\n",
       "      <td>0.253165</td>\n",
       "      <td>0.227848</td>\n",
       "      <td>0.291139</td>\n",
       "    </tr>\n",
       "    <tr>\n",
       "      <th>Hawaii</th>\n",
       "      <td>0.307692</td>\n",
       "      <td>0.215385</td>\n",
       "      <td>0.230769</td>\n",
       "      <td>0.246154</td>\n",
       "    </tr>\n",
       "    <tr>\n",
       "      <th>Idaho</th>\n",
       "      <td>0.268817</td>\n",
       "      <td>0.279570</td>\n",
       "      <td>0.279570</td>\n",
       "      <td>0.172043</td>\n",
       "    </tr>\n",
       "    <tr>\n",
       "      <th>Illinois</th>\n",
       "      <td>0.239130</td>\n",
       "      <td>0.271739</td>\n",
       "      <td>0.250000</td>\n",
       "      <td>0.239130</td>\n",
       "    </tr>\n",
       "    <tr>\n",
       "      <th>Indiana</th>\n",
       "      <td>0.202532</td>\n",
       "      <td>0.291139</td>\n",
       "      <td>0.227848</td>\n",
       "      <td>0.278481</td>\n",
       "    </tr>\n",
       "    <tr>\n",
       "      <th>Iowa</th>\n",
       "      <td>0.246377</td>\n",
       "      <td>0.202899</td>\n",
       "      <td>0.260870</td>\n",
       "      <td>0.289855</td>\n",
       "    </tr>\n",
       "    <tr>\n",
       "      <th>Kansas</th>\n",
       "      <td>0.222222</td>\n",
       "      <td>0.317460</td>\n",
       "      <td>0.269841</td>\n",
       "      <td>0.190476</td>\n",
       "    </tr>\n",
       "    <tr>\n",
       "      <th>Kentucky</th>\n",
       "      <td>0.215190</td>\n",
       "      <td>0.316456</td>\n",
       "      <td>0.151899</td>\n",
       "      <td>0.316456</td>\n",
       "    </tr>\n",
       "    <tr>\n",
       "      <th>Louisiana</th>\n",
       "      <td>0.226190</td>\n",
       "      <td>0.285714</td>\n",
       "      <td>0.190476</td>\n",
       "      <td>0.297619</td>\n",
       "    </tr>\n",
       "    <tr>\n",
       "      <th>Maine</th>\n",
       "      <td>0.207792</td>\n",
       "      <td>0.285714</td>\n",
       "      <td>0.168831</td>\n",
       "      <td>0.337662</td>\n",
       "    </tr>\n",
       "    <tr>\n",
       "      <th>Maryland</th>\n",
       "      <td>0.232558</td>\n",
       "      <td>0.302326</td>\n",
       "      <td>0.279070</td>\n",
       "      <td>0.186047</td>\n",
       "    </tr>\n",
       "    <tr>\n",
       "      <th>Massachusetts</th>\n",
       "      <td>0.166667</td>\n",
       "      <td>0.250000</td>\n",
       "      <td>0.305556</td>\n",
       "      <td>0.277778</td>\n",
       "    </tr>\n",
       "    <tr>\n",
       "      <th>Michigan</th>\n",
       "      <td>0.301370</td>\n",
       "      <td>0.232877</td>\n",
       "      <td>0.287671</td>\n",
       "      <td>0.178082</td>\n",
       "    </tr>\n",
       "    <tr>\n",
       "      <th>Minnesota</th>\n",
       "      <td>0.284091</td>\n",
       "      <td>0.261364</td>\n",
       "      <td>0.215909</td>\n",
       "      <td>0.238636</td>\n",
       "    </tr>\n",
       "    <tr>\n",
       "      <th>Mississippi</th>\n",
       "      <td>0.250000</td>\n",
       "      <td>0.187500</td>\n",
       "      <td>0.250000</td>\n",
       "      <td>0.312500</td>\n",
       "    </tr>\n",
       "    <tr>\n",
       "      <th>Missouri</th>\n",
       "      <td>0.308642</td>\n",
       "      <td>0.283951</td>\n",
       "      <td>0.234568</td>\n",
       "      <td>0.172840</td>\n",
       "    </tr>\n",
       "    <tr>\n",
       "      <th>Montana</th>\n",
       "      <td>0.208333</td>\n",
       "      <td>0.260417</td>\n",
       "      <td>0.270833</td>\n",
       "      <td>0.260417</td>\n",
       "    </tr>\n",
       "    <tr>\n",
       "      <th>Nebraska</th>\n",
       "      <td>0.252874</td>\n",
       "      <td>0.275862</td>\n",
       "      <td>0.252874</td>\n",
       "      <td>0.218391</td>\n",
       "    </tr>\n",
       "    <tr>\n",
       "      <th>Nevada</th>\n",
       "      <td>0.195402</td>\n",
       "      <td>0.321839</td>\n",
       "      <td>0.310345</td>\n",
       "      <td>0.172414</td>\n",
       "    </tr>\n",
       "    <tr>\n",
       "      <th>New Hampshire</th>\n",
       "      <td>0.267606</td>\n",
       "      <td>0.267606</td>\n",
       "      <td>0.169014</td>\n",
       "      <td>0.295775</td>\n",
       "    </tr>\n",
       "    <tr>\n",
       "      <th>New Jersey</th>\n",
       "      <td>0.208955</td>\n",
       "      <td>0.343284</td>\n",
       "      <td>0.298507</td>\n",
       "      <td>0.149254</td>\n",
       "    </tr>\n",
       "    <tr>\n",
       "      <th>New Mexico</th>\n",
       "      <td>0.259259</td>\n",
       "      <td>0.234568</td>\n",
       "      <td>0.271605</td>\n",
       "      <td>0.234568</td>\n",
       "    </tr>\n",
       "    <tr>\n",
       "      <th>New York</th>\n",
       "      <td>0.287356</td>\n",
       "      <td>0.183908</td>\n",
       "      <td>0.241379</td>\n",
       "      <td>0.287356</td>\n",
       "    </tr>\n",
       "    <tr>\n",
       "      <th>North Carolina</th>\n",
       "      <td>0.217949</td>\n",
       "      <td>0.346154</td>\n",
       "      <td>0.217949</td>\n",
       "      <td>0.217949</td>\n",
       "    </tr>\n",
       "    <tr>\n",
       "      <th>North Dakota</th>\n",
       "      <td>0.253012</td>\n",
       "      <td>0.204819</td>\n",
       "      <td>0.325301</td>\n",
       "      <td>0.216867</td>\n",
       "    </tr>\n",
       "    <tr>\n",
       "      <th>Ohio</th>\n",
       "      <td>0.298701</td>\n",
       "      <td>0.129870</td>\n",
       "      <td>0.272727</td>\n",
       "      <td>0.298701</td>\n",
       "    </tr>\n",
       "    <tr>\n",
       "      <th>Oklahoma</th>\n",
       "      <td>0.240000</td>\n",
       "      <td>0.213333</td>\n",
       "      <td>0.186667</td>\n",
       "      <td>0.360000</td>\n",
       "    </tr>\n",
       "    <tr>\n",
       "      <th>Oregon</th>\n",
       "      <td>0.216216</td>\n",
       "      <td>0.283784</td>\n",
       "      <td>0.216216</td>\n",
       "      <td>0.283784</td>\n",
       "    </tr>\n",
       "    <tr>\n",
       "      <th>Pennsylvania</th>\n",
       "      <td>0.202703</td>\n",
       "      <td>0.229730</td>\n",
       "      <td>0.364865</td>\n",
       "      <td>0.202703</td>\n",
       "    </tr>\n",
       "    <tr>\n",
       "      <th>Rhode Island</th>\n",
       "      <td>0.158730</td>\n",
       "      <td>0.269841</td>\n",
       "      <td>0.206349</td>\n",
       "      <td>0.365079</td>\n",
       "    </tr>\n",
       "    <tr>\n",
       "      <th>South Carolina</th>\n",
       "      <td>0.355263</td>\n",
       "      <td>0.328947</td>\n",
       "      <td>0.197368</td>\n",
       "      <td>0.118421</td>\n",
       "    </tr>\n",
       "    <tr>\n",
       "      <th>South Dakota</th>\n",
       "      <td>0.328571</td>\n",
       "      <td>0.214286</td>\n",
       "      <td>0.271429</td>\n",
       "      <td>0.185714</td>\n",
       "    </tr>\n",
       "    <tr>\n",
       "      <th>Tennessee</th>\n",
       "      <td>0.259740</td>\n",
       "      <td>0.285714</td>\n",
       "      <td>0.233766</td>\n",
       "      <td>0.220779</td>\n",
       "    </tr>\n",
       "    <tr>\n",
       "      <th>Texas</th>\n",
       "      <td>0.337662</td>\n",
       "      <td>0.181818</td>\n",
       "      <td>0.246753</td>\n",
       "      <td>0.233766</td>\n",
       "    </tr>\n",
       "    <tr>\n",
       "      <th>Utah</th>\n",
       "      <td>0.338028</td>\n",
       "      <td>0.169014</td>\n",
       "      <td>0.253521</td>\n",
       "      <td>0.239437</td>\n",
       "    </tr>\n",
       "    <tr>\n",
       "      <th>Vermont</th>\n",
       "      <td>0.258824</td>\n",
       "      <td>0.164706</td>\n",
       "      <td>0.211765</td>\n",
       "      <td>0.364706</td>\n",
       "    </tr>\n",
       "    <tr>\n",
       "      <th>Virginia</th>\n",
       "      <td>0.168831</td>\n",
       "      <td>0.220779</td>\n",
       "      <td>0.285714</td>\n",
       "      <td>0.324675</td>\n",
       "    </tr>\n",
       "    <tr>\n",
       "      <th>Washington</th>\n",
       "      <td>0.164384</td>\n",
       "      <td>0.328767</td>\n",
       "      <td>0.287671</td>\n",
       "      <td>0.219178</td>\n",
       "    </tr>\n",
       "    <tr>\n",
       "      <th>West Virginia</th>\n",
       "      <td>0.259259</td>\n",
       "      <td>0.271605</td>\n",
       "      <td>0.209877</td>\n",
       "      <td>0.259259</td>\n",
       "    </tr>\n",
       "    <tr>\n",
       "      <th>Wisconsin</th>\n",
       "      <td>0.293333</td>\n",
       "      <td>0.133333</td>\n",
       "      <td>0.320000</td>\n",
       "      <td>0.253333</td>\n",
       "    </tr>\n",
       "    <tr>\n",
       "      <th>Wyoming</th>\n",
       "      <td>0.281690</td>\n",
       "      <td>0.253521</td>\n",
       "      <td>0.154930</td>\n",
       "      <td>0.309859</td>\n",
       "    </tr>\n",
       "  </tbody>\n",
       "</table>\n",
       "</div>"
      ],
      "text/plain": [
       "Season              Fall    Spring    Summer    Winter\n",
       "Location                                              \n",
       "Alabama         0.269663  0.269663  0.269663  0.191011\n",
       "Alaska          0.208333  0.375000  0.166667  0.250000\n",
       "Arizona         0.276923  0.246154  0.276923  0.200000\n",
       "Arkansas        0.240506  0.303797  0.253165  0.202532\n",
       "California      0.284211  0.242105  0.242105  0.231579\n",
       "Colorado        0.160000  0.293333  0.240000  0.306667\n",
       "Connecticut     0.256410  0.269231  0.192308  0.282051\n",
       "Delaware        0.279070  0.255814  0.232558  0.232558\n",
       "Florida         0.294118  0.191176  0.250000  0.264706\n",
       "Georgia         0.227848  0.253165  0.227848  0.291139\n",
       "Hawaii          0.307692  0.215385  0.230769  0.246154\n",
       "Idaho           0.268817  0.279570  0.279570  0.172043\n",
       "Illinois        0.239130  0.271739  0.250000  0.239130\n",
       "Indiana         0.202532  0.291139  0.227848  0.278481\n",
       "Iowa            0.246377  0.202899  0.260870  0.289855\n",
       "Kansas          0.222222  0.317460  0.269841  0.190476\n",
       "Kentucky        0.215190  0.316456  0.151899  0.316456\n",
       "Louisiana       0.226190  0.285714  0.190476  0.297619\n",
       "Maine           0.207792  0.285714  0.168831  0.337662\n",
       "Maryland        0.232558  0.302326  0.279070  0.186047\n",
       "Massachusetts   0.166667  0.250000  0.305556  0.277778\n",
       "Michigan        0.301370  0.232877  0.287671  0.178082\n",
       "Minnesota       0.284091  0.261364  0.215909  0.238636\n",
       "Mississippi     0.250000  0.187500  0.250000  0.312500\n",
       "Missouri        0.308642  0.283951  0.234568  0.172840\n",
       "Montana         0.208333  0.260417  0.270833  0.260417\n",
       "Nebraska        0.252874  0.275862  0.252874  0.218391\n",
       "Nevada          0.195402  0.321839  0.310345  0.172414\n",
       "New Hampshire   0.267606  0.267606  0.169014  0.295775\n",
       "New Jersey      0.208955  0.343284  0.298507  0.149254\n",
       "New Mexico      0.259259  0.234568  0.271605  0.234568\n",
       "New York        0.287356  0.183908  0.241379  0.287356\n",
       "North Carolina  0.217949  0.346154  0.217949  0.217949\n",
       "North Dakota    0.253012  0.204819  0.325301  0.216867\n",
       "Ohio            0.298701  0.129870  0.272727  0.298701\n",
       "Oklahoma        0.240000  0.213333  0.186667  0.360000\n",
       "Oregon          0.216216  0.283784  0.216216  0.283784\n",
       "Pennsylvania    0.202703  0.229730  0.364865  0.202703\n",
       "Rhode Island    0.158730  0.269841  0.206349  0.365079\n",
       "South Carolina  0.355263  0.328947  0.197368  0.118421\n",
       "South Dakota    0.328571  0.214286  0.271429  0.185714\n",
       "Tennessee       0.259740  0.285714  0.233766  0.220779\n",
       "Texas           0.337662  0.181818  0.246753  0.233766\n",
       "Utah            0.338028  0.169014  0.253521  0.239437\n",
       "Vermont         0.258824  0.164706  0.211765  0.364706\n",
       "Virginia        0.168831  0.220779  0.285714  0.324675\n",
       "Washington      0.164384  0.328767  0.287671  0.219178\n",
       "West Virginia   0.259259  0.271605  0.209877  0.259259\n",
       "Wisconsin       0.293333  0.133333  0.320000  0.253333\n",
       "Wyoming         0.281690  0.253521  0.154930  0.309859"
      ]
     },
     "execution_count": 115,
     "metadata": {},
     "output_type": "execute_result"
    }
   ],
   "source": [
    "percent_table"
   ]
  },
  {
   "cell_type": "code",
   "execution_count": 121,
   "metadata": {},
   "outputs": [
    {
     "name": "stdout",
     "output_type": "stream",
     "text": [
      "Средний показатель для кол-ва покупок осенью относительно всех покупок среди всех штатов: 0.2497807163854328\n",
      "Этот же показатель для штата Alaska: 0.20833333333333334\n",
      "Этот же показатель для штата North Dakota: 0.25301204819277107\n",
      "Этот же показатель для штата Minnesota: 0.2840909090909091\n",
      "Этот же показатель для штата Wyoming: 0.28169014084507044\n"
     ]
    }
   ],
   "source": [
    "# Рассмотрим самые холодные штаты\n",
    "print(f'Средний показатель для кол-ва покупок осенью относительно всех покупок среди всех штатов: {percent_table['Fall'].mean()}')\n",
    "for state in ['Alaska', 'North Dakota', 'Minnesota', 'Wyoming']:\n",
    "    print(f'Этот же показатель для штата {state}: {percent_table.loc[state]['Fall']}')"
   ]
  },
  {
   "cell_type": "markdown",
   "metadata": {},
   "source": [
    "**Вывод:** хотя для некоторых холодных штатов частота покупок осенью действительно выше, нельзя сказать что гипотеза на 100% верна из-за малого кол-ва данных\n",
    "\n",
    "---"
   ]
  },
  {
   "cell_type": "markdown",
   "metadata": {},
   "source": [
    "**Пятая гипотеза:** покупатели, воспользовавшиеся промокодом, оставляют более высокую оценку товару"
   ]
  },
  {
   "cell_type": "code",
   "execution_count": 122,
   "metadata": {},
   "outputs": [
    {
     "data": {
      "text/plain": [
       "<Axes: ylabel='Review Rating'>"
      ]
     },
     "execution_count": 122,
     "metadata": {},
     "output_type": "execute_result"
    },
    {
     "data": {
      "image/png": "[encoded data removed]",
      "text/plain": [
       "<Figure size 640x480 with 1 Axes>"
      ]
     },
     "metadata": {},
     "output_type": "display_data"
    }
   ],
   "source": [
    "# Нарисуем boxplot\n",
    "sns.boxplot(data = df, hue = 'Promo Code Used', y = 'Review Rating')"
   ]
  },
  {
   "cell_type": "markdown",
   "metadata": {},
   "source": [
    "**Вывод:** разница незначительна\n",
    "\n",
    "---"
   ]
  },
  {
   "cell_type": "markdown",
   "metadata": {},
   "source": [
    "<h2>Задание 1.2</h2>"
   ]
  },
  {
   "cell_type": "markdown",
   "metadata": {},
   "source": [
    "Помимо гипотез:\n",
    "* найдите самый популярный товар: \n",
    "* постройте распределение покупателей по полу\n",
    "* определите, какой пол (и отдельно возраст) покупает больше всего, чаще всего, самые дорогие товары\n",
    "* определите, есть ли зависимость между цветом одежды и сезоном.\n",
    "* посчитайте наш сезонный mau (уникальных пользователей за сезон) и его динамику.\n",
    "* найдите самую популярную букву в названии одежды. "
   ]
  },
  {
   "cell_type": "code",
   "execution_count": 126,
   "metadata": {},
   "outputs": [
    {
     "data": {
      "text/html": [
       "<div>\n",
       "<style scoped>\n",
       "    .dataframe tbody tr th:only-of-type {\n",
       "        vertical-align: middle;\n",
       "    }\n",
       "\n",
       "    .dataframe tbody tr th {\n",
       "        vertical-align: top;\n",
       "    }\n",
       "\n",
       "    .dataframe thead th {\n",
       "        text-align: right;\n",
       "    }\n",
       "</style>\n",
       "<table border=\"1\" class=\"dataframe\">\n",
       "  <thead>\n",
       "    <tr style=\"text-align: right;\">\n",
       "      <th></th>\n",
       "      <th>Customer ID</th>\n",
       "      <th>Age</th>\n",
       "      <th>Gender</th>\n",
       "      <th>Item Purchased</th>\n",
       "      <th>Category</th>\n",
       "      <th>Purchase Amount (USD)</th>\n",
       "      <th>Location</th>\n",
       "      <th>Size</th>\n",
       "      <th>Color</th>\n",
       "      <th>Season</th>\n",
       "      <th>Review Rating</th>\n",
       "      <th>Subscription Status</th>\n",
       "      <th>Payment Method</th>\n",
       "      <th>Shipping Type</th>\n",
       "      <th>Discount Applied</th>\n",
       "      <th>Promo Code Used</th>\n",
       "      <th>Previous Purchases</th>\n",
       "      <th>Preferred Payment Method</th>\n",
       "      <th>Frequency of Purchases</th>\n",
       "      <th>age_group</th>\n",
       "    </tr>\n",
       "  </thead>\n",
       "  <tbody>\n",
       "    <tr>\n",
       "      <th>0</th>\n",
       "      <td>1</td>\n",
       "      <td>55</td>\n",
       "      <td>Male</td>\n",
       "      <td>Blouse</td>\n",
       "      <td>Clothing</td>\n",
       "      <td>53</td>\n",
       "      <td>Kentucky</td>\n",
       "      <td>L</td>\n",
       "      <td>Gray</td>\n",
       "      <td>Winter</td>\n",
       "      <td>3.1</td>\n",
       "      <td>Yes</td>\n",
       "      <td>Credit Card</td>\n",
       "      <td>Express</td>\n",
       "      <td>Yes</td>\n",
       "      <td>Yes</td>\n",
       "      <td>14</td>\n",
       "      <td>Venmo</td>\n",
       "      <td>Fortnightly</td>\n",
       "      <td>50-100</td>\n",
       "    </tr>\n",
       "    <tr>\n",
       "      <th>1</th>\n",
       "      <td>2</td>\n",
       "      <td>19</td>\n",
       "      <td>Male</td>\n",
       "      <td>Sweater</td>\n",
       "      <td>Clothing</td>\n",
       "      <td>64</td>\n",
       "      <td>Maine</td>\n",
       "      <td>L</td>\n",
       "      <td>Maroon</td>\n",
       "      <td>Winter</td>\n",
       "      <td>3.1</td>\n",
       "      <td>Yes</td>\n",
       "      <td>Bank Transfer</td>\n",
       "      <td>Express</td>\n",
       "      <td>Yes</td>\n",
       "      <td>Yes</td>\n",
       "      <td>2</td>\n",
       "      <td>Cash</td>\n",
       "      <td>Fortnightly</td>\n",
       "      <td>0-30</td>\n",
       "    </tr>\n",
       "    <tr>\n",
       "      <th>2</th>\n",
       "      <td>3</td>\n",
       "      <td>50</td>\n",
       "      <td>Male</td>\n",
       "      <td>Jeans</td>\n",
       "      <td>Clothing</td>\n",
       "      <td>73</td>\n",
       "      <td>Massachusetts</td>\n",
       "      <td>S</td>\n",
       "      <td>Maroon</td>\n",
       "      <td>Spring</td>\n",
       "      <td>3.1</td>\n",
       "      <td>Yes</td>\n",
       "      <td>Cash</td>\n",
       "      <td>Free Shipping</td>\n",
       "      <td>Yes</td>\n",
       "      <td>Yes</td>\n",
       "      <td>23</td>\n",
       "      <td>Credit Card</td>\n",
       "      <td>Weekly</td>\n",
       "      <td>30-50</td>\n",
       "    </tr>\n",
       "    <tr>\n",
       "      <th>3</th>\n",
       "      <td>4</td>\n",
       "      <td>21</td>\n",
       "      <td>Male</td>\n",
       "      <td>Sandals</td>\n",
       "      <td>Footwear</td>\n",
       "      <td>90</td>\n",
       "      <td>Rhode Island</td>\n",
       "      <td>M</td>\n",
       "      <td>Maroon</td>\n",
       "      <td>Spring</td>\n",
       "      <td>3.5</td>\n",
       "      <td>Yes</td>\n",
       "      <td>PayPal</td>\n",
       "      <td>Next Day Air</td>\n",
       "      <td>Yes</td>\n",
       "      <td>Yes</td>\n",
       "      <td>49</td>\n",
       "      <td>PayPal</td>\n",
       "      <td>Weekly</td>\n",
       "      <td>0-30</td>\n",
       "    </tr>\n",
       "    <tr>\n",
       "      <th>4</th>\n",
       "      <td>5</td>\n",
       "      <td>45</td>\n",
       "      <td>Male</td>\n",
       "      <td>Blouse</td>\n",
       "      <td>Clothing</td>\n",
       "      <td>49</td>\n",
       "      <td>Oregon</td>\n",
       "      <td>M</td>\n",
       "      <td>Turquoise</td>\n",
       "      <td>Spring</td>\n",
       "      <td>2.7</td>\n",
       "      <td>Yes</td>\n",
       "      <td>Cash</td>\n",
       "      <td>Free Shipping</td>\n",
       "      <td>Yes</td>\n",
       "      <td>Yes</td>\n",
       "      <td>31</td>\n",
       "      <td>PayPal</td>\n",
       "      <td>Annually</td>\n",
       "      <td>30-50</td>\n",
       "    </tr>\n",
       "    <tr>\n",
       "      <th>...</th>\n",
       "      <td>...</td>\n",
       "      <td>...</td>\n",
       "      <td>...</td>\n",
       "      <td>...</td>\n",
       "      <td>...</td>\n",
       "      <td>...</td>\n",
       "      <td>...</td>\n",
       "      <td>...</td>\n",
       "      <td>...</td>\n",
       "      <td>...</td>\n",
       "      <td>...</td>\n",
       "      <td>...</td>\n",
       "      <td>...</td>\n",
       "      <td>...</td>\n",
       "      <td>...</td>\n",
       "      <td>...</td>\n",
       "      <td>...</td>\n",
       "      <td>...</td>\n",
       "      <td>...</td>\n",
       "      <td>...</td>\n",
       "    </tr>\n",
       "    <tr>\n",
       "      <th>3895</th>\n",
       "      <td>3896</td>\n",
       "      <td>40</td>\n",
       "      <td>Female</td>\n",
       "      <td>Hoodie</td>\n",
       "      <td>Clothing</td>\n",
       "      <td>28</td>\n",
       "      <td>Virginia</td>\n",
       "      <td>L</td>\n",
       "      <td>Turquoise</td>\n",
       "      <td>Summer</td>\n",
       "      <td>4.2</td>\n",
       "      <td>No</td>\n",
       "      <td>Cash</td>\n",
       "      <td>2-Day Shipping</td>\n",
       "      <td>No</td>\n",
       "      <td>No</td>\n",
       "      <td>32</td>\n",
       "      <td>Venmo</td>\n",
       "      <td>Weekly</td>\n",
       "      <td>30-50</td>\n",
       "    </tr>\n",
       "    <tr>\n",
       "      <th>3896</th>\n",
       "      <td>3897</td>\n",
       "      <td>52</td>\n",
       "      <td>Female</td>\n",
       "      <td>Backpack</td>\n",
       "      <td>Accessories</td>\n",
       "      <td>49</td>\n",
       "      <td>Iowa</td>\n",
       "      <td>L</td>\n",
       "      <td>White</td>\n",
       "      <td>Spring</td>\n",
       "      <td>4.5</td>\n",
       "      <td>No</td>\n",
       "      <td>PayPal</td>\n",
       "      <td>Store Pickup</td>\n",
       "      <td>No</td>\n",
       "      <td>No</td>\n",
       "      <td>41</td>\n",
       "      <td>Bank Transfer</td>\n",
       "      <td>Bi-Weekly</td>\n",
       "      <td>50-100</td>\n",
       "    </tr>\n",
       "    <tr>\n",
       "      <th>3897</th>\n",
       "      <td>3898</td>\n",
       "      <td>46</td>\n",
       "      <td>Female</td>\n",
       "      <td>Belt</td>\n",
       "      <td>Accessories</td>\n",
       "      <td>33</td>\n",
       "      <td>New Jersey</td>\n",
       "      <td>L</td>\n",
       "      <td>Green</td>\n",
       "      <td>Spring</td>\n",
       "      <td>2.9</td>\n",
       "      <td>No</td>\n",
       "      <td>Credit Card</td>\n",
       "      <td>Standard</td>\n",
       "      <td>No</td>\n",
       "      <td>No</td>\n",
       "      <td>24</td>\n",
       "      <td>Venmo</td>\n",
       "      <td>Quarterly</td>\n",
       "      <td>30-50</td>\n",
       "    </tr>\n",
       "    <tr>\n",
       "      <th>3898</th>\n",
       "      <td>3899</td>\n",
       "      <td>44</td>\n",
       "      <td>Female</td>\n",
       "      <td>Shoes</td>\n",
       "      <td>Footwear</td>\n",
       "      <td>77</td>\n",
       "      <td>Minnesota</td>\n",
       "      <td>S</td>\n",
       "      <td>Brown</td>\n",
       "      <td>Summer</td>\n",
       "      <td>3.8</td>\n",
       "      <td>No</td>\n",
       "      <td>PayPal</td>\n",
       "      <td>Express</td>\n",
       "      <td>No</td>\n",
       "      <td>No</td>\n",
       "      <td>24</td>\n",
       "      <td>Venmo</td>\n",
       "      <td>Weekly</td>\n",
       "      <td>30-50</td>\n",
       "    </tr>\n",
       "    <tr>\n",
       "      <th>3899</th>\n",
       "      <td>3900</td>\n",
       "      <td>52</td>\n",
       "      <td>Female</td>\n",
       "      <td>Handbag</td>\n",
       "      <td>Accessories</td>\n",
       "      <td>81</td>\n",
       "      <td>California</td>\n",
       "      <td>M</td>\n",
       "      <td>Beige</td>\n",
       "      <td>Spring</td>\n",
       "      <td>3.1</td>\n",
       "      <td>No</td>\n",
       "      <td>Bank Transfer</td>\n",
       "      <td>Store Pickup</td>\n",
       "      <td>No</td>\n",
       "      <td>No</td>\n",
       "      <td>33</td>\n",
       "      <td>Venmo</td>\n",
       "      <td>Quarterly</td>\n",
       "      <td>50-100</td>\n",
       "    </tr>\n",
       "  </tbody>\n",
       "</table>\n",
       "<p>3900 rows × 20 columns</p>\n",
       "</div>"
      ],
      "text/plain": [
       "      Customer ID  Age  Gender Item Purchased     Category  \\\n",
       "0               1   55    Male         Blouse     Clothing   \n",
       "1               2   19    Male        Sweater     Clothing   \n",
       "2               3   50    Male          Jeans     Clothing   \n",
       "3               4   21    Male        Sandals     Footwear   \n",
       "4               5   45    Male         Blouse     Clothing   \n",
       "...           ...  ...     ...            ...          ...   \n",
       "3895         3896   40  Female         Hoodie     Clothing   \n",
       "3896         3897   52  Female       Backpack  Accessories   \n",
       "3897         3898   46  Female           Belt  Accessories   \n",
       "3898         3899   44  Female          Shoes     Footwear   \n",
       "3899         3900   52  Female        Handbag  Accessories   \n",
       "\n",
       "      Purchase Amount (USD)       Location Size      Color  Season  \\\n",
       "0                        53       Kentucky    L       Gray  Winter   \n",
       "1                        64          Maine    L     Maroon  Winter   \n",
       "2                        73  Massachusetts    S     Maroon  Spring   \n",
       "3                        90   Rhode Island    M     Maroon  Spring   \n",
       "4                        49         Oregon    M  Turquoise  Spring   \n",
       "...                     ...            ...  ...        ...     ...   \n",
       "3895                     28       Virginia    L  Turquoise  Summer   \n",
       "3896                     49           Iowa    L      White  Spring   \n",
       "3897                     33     New Jersey    L      Green  Spring   \n",
       "3898                     77      Minnesota    S      Brown  Summer   \n",
       "3899                     81     California    M      Beige  Spring   \n",
       "\n",
       "      Review Rating Subscription Status Payment Method   Shipping Type  \\\n",
       "0               3.1                 Yes    Credit Card         Express   \n",
       "1               3.1                 Yes  Bank Transfer         Express   \n",
       "2               3.1                 Yes           Cash   Free Shipping   \n",
       "3               3.5                 Yes         PayPal    Next Day Air   \n",
       "4               2.7                 Yes           Cash   Free Shipping   \n",
       "...             ...                 ...            ...             ...   \n",
       "3895            4.2                  No           Cash  2-Day Shipping   \n",
       "3896            4.5                  No         PayPal    Store Pickup   \n",
       "3897            2.9                  No    Credit Card        Standard   \n",
       "3898            3.8                  No         PayPal         Express   \n",
       "3899            3.1                  No  Bank Transfer    Store Pickup   \n",
       "\n",
       "     Discount Applied Promo Code Used  Previous Purchases  \\\n",
       "0                 Yes             Yes                  14   \n",
       "1                 Yes             Yes                   2   \n",
       "2                 Yes             Yes                  23   \n",
       "3                 Yes             Yes                  49   \n",
       "4                 Yes             Yes                  31   \n",
       "...               ...             ...                 ...   \n",
       "3895               No              No                  32   \n",
       "3896               No              No                  41   \n",
       "3897               No              No                  24   \n",
       "3898               No              No                  24   \n",
       "3899               No              No                  33   \n",
       "\n",
       "     Preferred Payment Method Frequency of Purchases age_group  \n",
       "0                       Venmo            Fortnightly    50-100  \n",
       "1                        Cash            Fortnightly      0-30  \n",
       "2                 Credit Card                 Weekly     30-50  \n",
       "3                      PayPal                 Weekly      0-30  \n",
       "4                      PayPal               Annually     30-50  \n",
       "...                       ...                    ...       ...  \n",
       "3895                    Venmo                 Weekly     30-50  \n",
       "3896            Bank Transfer              Bi-Weekly    50-100  \n",
       "3897                    Venmo              Quarterly     30-50  \n",
       "3898                    Venmo                 Weekly     30-50  \n",
       "3899                    Venmo              Quarterly    50-100  \n",
       "\n",
       "[3900 rows x 20 columns]"
      ]
     },
     "execution_count": 126,
     "metadata": {},
     "output_type": "execute_result"
    }
   ],
   "source": [
    "df"
   ]
  },
  {
   "cell_type": "markdown",
   "metadata": {},
   "source": [
    "**найдите самый популярный товар:**"
   ]
  },
  {
   "cell_type": "code",
   "execution_count": 127,
   "metadata": {},
   "outputs": [
    {
     "data": {
      "text/plain": [
       "Item Purchased\n",
       "Blouse     171\n",
       "Jewelry    171\n",
       "Pants      171\n",
       "Shirt      169\n",
       "Dress      166\n",
       "Name: count, dtype: int64"
      ]
     },
     "execution_count": 127,
     "metadata": {},
     "output_type": "execute_result"
    }
   ],
   "source": [
    "df['Item Purchased'].value_counts().head()"
   ]
  },
  {
   "cell_type": "markdown",
   "metadata": {},
   "source": [
    "Самый популярный товар - **Blouse**"
   ]
  },
  {
   "cell_type": "markdown",
   "metadata": {},
   "source": [
    "**постройте распределение покупателей по полу**"
   ]
  },
  {
   "cell_type": "code",
   "execution_count": 130,
   "metadata": {},
   "outputs": [
    {
     "data": {
      "image/png": "[encoded data removed]",
      "text/plain": [
       "<Figure size 640x480 with 1 Axes>"
      ]
     },
     "metadata": {},
     "output_type": "display_data"
    }
   ],
   "source": [
    "sns.histplot(data = df, x = 'Age', kde = True, bins = 50);"
   ]
  },
  {
   "cell_type": "markdown",
   "metadata": {},
   "source": [
    "**определите, какой пол (и отдельно возраст) покупает больше всего, чаще всего, самые дорогие товары**"
   ]
  },
  {
   "cell_type": "code",
   "execution_count": 134,
   "metadata": {},
   "outputs": [],
   "source": [
    "# Определим самые дорогие товары - товары, которые дороже 90% всех товаров\n",
    "high_price = df['Purchase Amount (USD)'].quantile(0.9)"
   ]
  },
  {
   "cell_type": "code",
   "execution_count": 135,
   "metadata": {},
   "outputs": [],
   "source": [
    "df['is_expensive'] = df['Purchase Amount (USD)'] >= high_price"
   ]
  },
  {
   "cell_type": "code",
   "execution_count": 137,
   "metadata": {},
   "outputs": [],
   "source": [
    "grouped = df.groupby('Gender', as_index = False)['is_expensive'].mean()"
   ]
  },
  {
   "cell_type": "code",
   "execution_count": 138,
   "metadata": {},
   "outputs": [
    {
     "data": {
      "text/html": [
       "<div>\n",
       "<style scoped>\n",
       "    .dataframe tbody tr th:only-of-type {\n",
       "        vertical-align: middle;\n",
       "    }\n",
       "\n",
       "    .dataframe tbody tr th {\n",
       "        vertical-align: top;\n",
       "    }\n",
       "\n",
       "    .dataframe thead th {\n",
       "        text-align: right;\n",
       "    }\n",
       "</style>\n",
       "<table border=\"1\" class=\"dataframe\">\n",
       "  <thead>\n",
       "    <tr style=\"text-align: right;\">\n",
       "      <th></th>\n",
       "      <th>Gender</th>\n",
       "      <th>is_expensive</th>\n",
       "    </tr>\n",
       "  </thead>\n",
       "  <tbody>\n",
       "    <tr>\n",
       "      <th>0</th>\n",
       "      <td>Female</td>\n",
       "      <td>0.104167</td>\n",
       "    </tr>\n",
       "    <tr>\n",
       "      <th>1</th>\n",
       "      <td>Male</td>\n",
       "      <td>0.104449</td>\n",
       "    </tr>\n",
       "  </tbody>\n",
       "</table>\n",
       "</div>"
      ],
      "text/plain": [
       "   Gender  is_expensive\n",
       "0  Female      0.104167\n",
       "1    Male      0.104449"
      ]
     },
     "execution_count": 138,
     "metadata": {},
     "output_type": "execute_result"
    }
   ],
   "source": [
    "grouped"
   ]
  },
  {
   "cell_type": "markdown",
   "metadata": {},
   "source": [
    "Для пола, чаще (хоть и немного) покупают Мужчины"
   ]
  },
  {
   "cell_type": "code",
   "execution_count": 140,
   "metadata": {},
   "outputs": [
    {
     "data": {
      "text/plain": [
       "Gender\n",
       "Male      277\n",
       "Female    130\n",
       "Name: count, dtype: int64"
      ]
     },
     "execution_count": 140,
     "metadata": {},
     "output_type": "execute_result"
    }
   ],
   "source": [
    "df[df['is_expensive']]['Gender'].value_counts()"
   ]
  },
  {
   "cell_type": "markdown",
   "metadata": {},
   "source": [
    "Если смотреть по абсолютным значениям, то больше всего дорогих вещей также покупают мужчины"
   ]
  },
  {
   "cell_type": "code",
   "execution_count": 141,
   "metadata": {},
   "outputs": [],
   "source": [
    "# Посмотрим по возрасту\n",
    "grouped = df.groupby('Age', as_index = False)['is_expensive'].mean()"
   ]
  },
  {
   "cell_type": "code",
   "execution_count": 145,
   "metadata": {},
   "outputs": [
    {
     "data": {
      "text/html": [
       "<div>\n",
       "<style scoped>\n",
       "    .dataframe tbody tr th:only-of-type {\n",
       "        vertical-align: middle;\n",
       "    }\n",
       "\n",
       "    .dataframe tbody tr th {\n",
       "        vertical-align: top;\n",
       "    }\n",
       "\n",
       "    .dataframe thead th {\n",
       "        text-align: right;\n",
       "    }\n",
       "</style>\n",
       "<table border=\"1\" class=\"dataframe\">\n",
       "  <thead>\n",
       "    <tr style=\"text-align: right;\">\n",
       "      <th></th>\n",
       "      <th>Age</th>\n",
       "      <th>is_expensive</th>\n",
       "    </tr>\n",
       "  </thead>\n",
       "  <tbody>\n",
       "    <tr>\n",
       "      <th>6</th>\n",
       "      <td>24</td>\n",
       "      <td>0.205882</td>\n",
       "    </tr>\n",
       "    <tr>\n",
       "      <th>35</th>\n",
       "      <td>53</td>\n",
       "      <td>0.171429</td>\n",
       "    </tr>\n",
       "    <tr>\n",
       "      <th>31</th>\n",
       "      <td>49</td>\n",
       "      <td>0.166667</td>\n",
       "    </tr>\n",
       "    <tr>\n",
       "      <th>2</th>\n",
       "      <td>20</td>\n",
       "      <td>0.161290</td>\n",
       "    </tr>\n",
       "    <tr>\n",
       "      <th>26</th>\n",
       "      <td>44</td>\n",
       "      <td>0.156863</td>\n",
       "    </tr>\n",
       "  </tbody>\n",
       "</table>\n",
       "</div>"
      ],
      "text/plain": [
       "    Age  is_expensive\n",
       "6    24      0.205882\n",
       "35   53      0.171429\n",
       "31   49      0.166667\n",
       "2    20      0.161290\n",
       "26   44      0.156863"
      ]
     },
     "execution_count": 145,
     "metadata": {},
     "output_type": "execute_result"
    }
   ],
   "source": [
    "grouped.sort_values(by = 'is_expensive', ascending= False).head()"
   ]
  },
  {
   "cell_type": "markdown",
   "metadata": {},
   "source": [
    "Для возраста, чаще всего покупают дорогие вещи покупатели в возрасте 24 лет"
   ]
  },
  {
   "cell_type": "code",
   "execution_count": 147,
   "metadata": {},
   "outputs": [
    {
     "data": {
      "text/plain": [
       "Age\n",
       "24    14\n",
       "49    14\n",
       "28    12\n",
       "25    12\n",
       "54    12\n",
       "Name: count, dtype: int64"
      ]
     },
     "execution_count": 147,
     "metadata": {},
     "output_type": "execute_result"
    }
   ],
   "source": [
    "df[df['is_expensive']]['Age'].value_counts().head()"
   ]
  },
  {
   "cell_type": "markdown",
   "metadata": {},
   "source": [
    "Больше всего (опять же в абсолютных значениях) покупатели в возрасте 24 и 49 лет"
   ]
  },
  {
   "cell_type": "markdown",
   "metadata": {},
   "source": [
    "**определите, есть ли зависимость между цветом одежды и сезоном**"
   ]
  },
  {
   "cell_type": "code",
   "execution_count": 152,
   "metadata": {},
   "outputs": [],
   "source": [
    "pivot_table = df.pivot_table(\n",
    "    index = 'Color',\n",
    "    columns = 'Season',\n",
    "    values = 'Customer ID',\n",
    "    aggfunc = 'count'\n",
    ")"
   ]
  },
  {
   "cell_type": "code",
   "execution_count": 153,
   "metadata": {},
   "outputs": [],
   "source": [
    "percent_table = pivot_table.div(pivot_table.sum(axis = 1), axis = 0)"
   ]
  },
  {
   "cell_type": "code",
   "execution_count": 164,
   "metadata": {},
   "outputs": [
    {
     "data": {
      "text/plain": [
       "<Axes: xlabel='Season', ylabel='Color'>"
      ]
     },
     "execution_count": 164,
     "metadata": {},
     "output_type": "execute_result"
    },
    {
     "data": {
      "image/png": "[encoded data removed]",
      "text/plain": [
       "<Figure size 1200x1200 with 2 Axes>"
      ]
     },
     "metadata": {},
     "output_type": "display_data"
    }
   ],
   "source": [
    "fig = plt.figure(figsize = (12, 12))\n",
    "sns.heatmap(percent_table, annot = True, cmap = 'Purples', fmt = '.2f')"
   ]
  },
  {
   "cell_type": "code",
   "execution_count": 161,
   "metadata": {},
   "outputs": [
    {
     "data": {
      "image/png": "[encoded data removed]",
      "text/plain": [
       "<Figure size 1200x600 with 1 Axes>"
      ]
     },
     "metadata": {},
     "output_type": "display_data"
    }
   ],
   "source": [
    "fig = plt.figure(figsize = (12, 6))\n",
    "sns.histplot(data = df, x = 'Color', hue = 'Season')\n",
    "plt.xticks(rotation=45);"
   ]
  },
  {
   "cell_type": "markdown",
   "metadata": {},
   "source": [
    "В среднем зависимости нет, но для отдельных цветов виден перевес в определенный сезон:\n",
    "- Для Silver чаще всего Summer\n",
    "- Для Magenta чаще всего Fall\n",
    "- Для Peach очень редко Summer"
   ]
  },
  {
   "cell_type": "markdown",
   "metadata": {},
   "source": [
    "**посчитайте наш сезонный mau (уникальных пользователей за сезон) и его динамику.**"
   ]
  },
  {
   "cell_type": "code",
   "execution_count": 170,
   "metadata": {},
   "outputs": [],
   "source": [
    "unique_users_per_season = df.groupby('Season', as_index = False)['Customer ID'].nunique()"
   ]
  },
  {
   "cell_type": "code",
   "execution_count": 171,
   "metadata": {},
   "outputs": [
    {
     "data": {
      "text/html": [
       "<div>\n",
       "<style scoped>\n",
       "    .dataframe tbody tr th:only-of-type {\n",
       "        vertical-align: middle;\n",
       "    }\n",
       "\n",
       "    .dataframe tbody tr th {\n",
       "        vertical-align: top;\n",
       "    }\n",
       "\n",
       "    .dataframe thead th {\n",
       "        text-align: right;\n",
       "    }\n",
       "</style>\n",
       "<table border=\"1\" class=\"dataframe\">\n",
       "  <thead>\n",
       "    <tr style=\"text-align: right;\">\n",
       "      <th></th>\n",
       "      <th>Season</th>\n",
       "      <th>Customer ID</th>\n",
       "    </tr>\n",
       "  </thead>\n",
       "  <tbody>\n",
       "    <tr>\n",
       "      <th>0</th>\n",
       "      <td>Fall</td>\n",
       "      <td>975</td>\n",
       "    </tr>\n",
       "    <tr>\n",
       "      <th>1</th>\n",
       "      <td>Spring</td>\n",
       "      <td>999</td>\n",
       "    </tr>\n",
       "    <tr>\n",
       "      <th>2</th>\n",
       "      <td>Summer</td>\n",
       "      <td>955</td>\n",
       "    </tr>\n",
       "    <tr>\n",
       "      <th>3</th>\n",
       "      <td>Winter</td>\n",
       "      <td>971</td>\n",
       "    </tr>\n",
       "  </tbody>\n",
       "</table>\n",
       "</div>"
      ],
      "text/plain": [
       "   Season  Customer ID\n",
       "0    Fall          975\n",
       "1  Spring          999\n",
       "2  Summer          955\n",
       "3  Winter          971"
      ]
     },
     "execution_count": 171,
     "metadata": {},
     "output_type": "execute_result"
    }
   ],
   "source": [
    "unique_users_per_season"
   ]
  },
  {
   "cell_type": "code",
   "execution_count": 176,
   "metadata": {},
   "outputs": [
    {
     "data": {
      "image/png": "[encoded data removed]",
      "text/plain": [
       "<Figure size 640x480 with 1 Axes>"
      ]
     },
     "metadata": {},
     "output_type": "display_data"
    }
   ],
   "source": [
    "# Посмотри на его динамику\n",
    "season_order = ['Winter', 'Spring', 'Summer', 'Fall']\n",
    "unique_users_per_season['Season'] = pd.Categorical(unique_users_per_season['Season'], categories=season_order, ordered=True)\n",
    "sns.lineplot(x = unique_users_per_season['Season'], y = unique_users_per_season['Customer ID']);"
   ]
  },
  {
   "cell_type": "markdown",
   "metadata": {},
   "source": [
    "**найдите самую популярную букву в названии одежды.** "
   ]
  },
  {
   "cell_type": "code",
   "execution_count": 180,
   "metadata": {},
   "outputs": [],
   "source": [
    "text = ''.join(df[df.Category == 'Clothing']['Item Purchased'].unique()).lower()"
   ]
  },
  {
   "cell_type": "code",
   "execution_count": 183,
   "metadata": {},
   "outputs": [
    {
     "data": {
      "text/plain": [
       "'blousesweaterjeansshirtshortsdressskirtpantshoodiet-shirtsocks'"
      ]
     },
     "execution_count": 183,
     "metadata": {},
     "output_type": "execute_result"
    }
   ],
   "source": [
    "text"
   ]
  },
  {
   "cell_type": "code",
   "execution_count": 184,
   "metadata": {},
   "outputs": [],
   "source": [
    "counts = {i : text.count(i) for i in set(text)}"
   ]
  },
  {
   "cell_type": "code",
   "execution_count": 185,
   "metadata": {},
   "outputs": [
    {
     "data": {
      "text/plain": [
       "{'i': 4,\n",
       " 'b': 1,\n",
       " '-': 1,\n",
       " 'o': 5,\n",
       " 'w': 1,\n",
       " 'h': 4,\n",
       " 'r': 6,\n",
       " 'd': 2,\n",
       " 'l': 1,\n",
       " 'n': 2,\n",
       " 'p': 1,\n",
       " 'j': 1,\n",
       " 'e': 6,\n",
       " 't': 7,\n",
       " 'k': 2,\n",
       " 'u': 1,\n",
       " 'c': 1,\n",
       " 's': 13,\n",
       " 'a': 3}"
      ]
     },
     "execution_count": 185,
     "metadata": {},
     "output_type": "execute_result"
    }
   ],
   "source": [
    "counts"
   ]
  },
  {
   "cell_type": "markdown",
   "metadata": {},
   "source": [
    "Самамя популярная буква - **s**"
   ]
  },
  {
   "cell_type": "markdown",
   "metadata": {},
   "source": [
    "<h1>Задание 2</h1> \n",
    "\n",
    "У нас есть данные о потреблении алкоголя в мире https://github.com/fivethirtyeight/data/tree/master/alcohol-consumption. \n",
    "\n",
    "Загрузите их и изучите, где же люди пьют больше вина, пива и других спиртных напитков."
   ]
  },
  {
   "cell_type": "markdown",
   "metadata": {},
   "source": [
    "<h1>Задание 3</h1> \n",
    "\n",
    "У нас есть полный каталог всех случаев, когда кто-то проклинал или истекал кровью в фильме Квентина Тарантино. https://github.com/fivethirtyeight/data/tree/master/tarantino\n",
    "\n",
    "Определите:\n",
    "\n",
    "* число проклятий, летальных исходов и их соотношение по фильмам \n",
    "\n",
    "* частоту употребления конкретных проклятий \n",
    "\n",
    "* распределение времени между проклятиями "
   ]
  }
 ],
 "metadata": {
  "kernelspec": {
   "display_name": "Python 3 (ipykernel)",
   "language": "python",
   "name": "python3"
  },
  "language_info": {
   "codemirror_mode": {
    "name": "ipython",
    "version": 3
   },
   "file_extension": ".py",
   "mimetype": "text/x-python",
   "name": "python",
   "nbconvert_exporter": "python",
   "pygments_lexer": "ipython3",
   "version": "3.12.3"
  }
 },
 "nbformat": 4,
 "nbformat_minor": 4
}
